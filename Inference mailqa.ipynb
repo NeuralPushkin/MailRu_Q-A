{
 "cells": [
  {
   "cell_type": "code",
   "execution_count": null,
   "id": "359c532d",
   "metadata": {},
   "outputs": [],
   "source": [
    "\n",
    "import pandas as pd\n",
    "import torch\n",
    "import random\n",
    "from transformers import GPT2TokenizerFast\n",
    "from transformers import GPT2LMHeadModel\n",
    "\n",
    "backbone = \"its5Q/rugpt3large_mailqa\"\n",
    "device = \"cuda\"\n",
    "model = GPT2LMHeadModel.from_pretrained(backbone).to(device)\n",
    "tokenizer = GPT2TokenizerFast.from_pretrained(backbone, use_fast=True)\n"
   ]
  },
  {
   "cell_type": "code",
   "execution_count": 2,
   "id": "1c074b70",
   "metadata": {},
   "outputs": [],
   "source": [
    "def ans(question, description='', category=''):\n",
    "    seed = random.randint(1, 10000000)\n",
    "    print(f'Seed: {seed}')\n",
    "    torch.manual_seed(seed)\n",
    "    torch.cuda.manual_seed_all(seed)\n",
    "    inp = tokenizer.encode(f'{\"Категория: \" + category + \"\\n\" if category else \"\"}Вопрос: {question}\\nОписание: {description}\\nОтвет:',return_tensors=\"pt\").to(device)\n",
    "    print('question',question)\n",
    "    gen = model.generate(inp, do_sample=True, top_p=0.9, temperature=0.86, max_new_tokens=100, repetition_penalty=1.2) #, stop_token=\"<eos>\")\n",
    "    \n",
    "    gen = tokenizer.decode(gen[0])\n",
    "    return gen[:gen.index('<eos>') if '<eos>' in gen else len(gen)]"
   ]
  },
  {
   "cell_type": "code",
   "execution_count": 19,
   "id": "31968137",
   "metadata": {
    "scrolled": true
   },
   "outputs": [
    {
     "name": "stderr",
     "output_type": "stream",
     "text": [
      "The attention mask and the pad token id were not set. As a consequence, you may observe unexpected behavior. Please pass your input's `attention_mask` to obtain reliable results.\n",
      "Setting `pad_token_id` to `eos_token_id`:50256 for open-end generation.\n"
     ]
    },
    {
     "name": "stdout",
     "output_type": "stream",
     "text": [
      "Seed: 8387994\n",
      "question Как какать?\n",
      "Вопрос: Как какать?\n",
      "Описание: \n",
      "Ответ: не надо.... если уже не хочешь....\n",
      "значит, пора начинать новую жизнь!!!\n",
      "а по вопросу-неправильно написал!)))) ) у меня вообще в последнее время редко какает... но я думаю через 3 дня должен наступить этот момент, если до сих пор нет стула))))))) \n",
      "\n",
      "Вопрос: Как какать?\n",
      "Описание: \n",
      "Ответ: не надо.... если уже не хочешь....\n",
      "значит, пора начинать новую жизнь!!!\n",
      "а по вопросу-неправильно написал!)))) ) у меня вообще в последнее время редко какает... но я думаю через 3 дня должен наступить этот момент, если до сих пор нет стула))))))) \n",
      "\n"
     ]
    }
   ],
   "source": [
    "print(ans(\"Как какать?\", \"\"))"
   ]
  },
  {
   "cell_type": "code",
   "execution_count": null,
   "id": "d6c24ee0",
   "metadata": {},
   "outputs": [],
   "source": [
    "%pip install pyTelegramBotAPI"
   ]
  },
  {
   "cell_type": "code",
   "execution_count": null,
   "id": "da573b04",
   "metadata": {},
   "outputs": [],
   "source": [
    "from time import sleep\n",
    "import telebot\n",
    "import random\n",
    "\n",
    "BOT_TOKEN = ''\n",
    "bot = telebot.TeleBot(BOT_TOKEN)\n",
    "\n",
    "@bot.message_handler(commands=['help', 'start'])\n",
    "def say_welcome(message):\n",
    "    bot.send_message(message.chat.id,\n",
    "                     'Добро пожаловать QA bot, задайте вопрос через /question, а я отвечу...',\n",
    "                     parse_mode='html')\n",
    "        \n",
    "@bot.message_handler(commands=['question'])\n",
    "def generate(message):\n",
    "    text = ' '.join(message.text.split()[1:])\n",
    "    print(text)\n",
    "\n",
    "    reply = ans(text, \"\")\n",
    "   \n",
    "    bot.send_message(message.chat.id, reply)\n",
    "    #logger.info(f'{reply}')\n",
    "\n",
    "\n",
    "if __name__ == '__main__':\n",
    "    bot.polling(none_stop=True)\n"
   ]
  }
 ],
 "metadata": {
  "kernelspec": {
   "display_name": "Python 3 (ipykernel)",
   "language": "python",
   "name": "python3"
  },
  "language_info": {
   "codemirror_mode": {
    "name": "ipython",
    "version": 3
   },
   "file_extension": ".py",
   "mimetype": "text/x-python",
   "name": "python",
   "nbconvert_exporter": "python",
   "pygments_lexer": "ipython3",
   "version": "3.8.12"
  }
 },
 "nbformat": 4,
 "nbformat_minor": 5
}
